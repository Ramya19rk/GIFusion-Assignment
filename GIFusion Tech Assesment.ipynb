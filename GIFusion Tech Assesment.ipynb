{
 "cells": [
  {
   "cell_type": "markdown",
   "id": "cb763543",
   "metadata": {},
   "source": [
    "# PYTHON"
   ]
  },
  {
   "cell_type": "markdown",
   "id": "9b9a6539",
   "metadata": {},
   "source": [
    "# Longest Substring Without Repeating Characters"
   ]
  },
  {
   "cell_type": "markdown",
   "id": "c58ed1b9",
   "metadata": {},
   "source": [
    "## Given a string s, find the length of the longest substring without repeating characters.\n",
    "\n",
    " \n",
    "\n",
    "### Example 1:\n",
    "\n",
    "Input: s = \"abcabcbb\"\n",
    "\n",
    "Output: 3\n",
    "\n",
    "Explanation: The answer is \"abc\", with the length of 3.\n",
    "### Example 2:\n",
    "\n",
    "Input: s = \"bbbbb\"\n",
    "\n",
    "Output: 1\n",
    "\n",
    "Explanation: The answer is \"b\", with the length of 1.\n",
    "### Example 3:\n",
    "\n",
    "Input: s = \"pwwkew\"\n",
    "\n",
    "Output: 3\n",
    "\n",
    "Explanation: The answer is \"wke\", with the length of 3.\n",
    "\n",
    "Notice that the answer must be a substring, \"pwke\" is a subsequence and not a substring.\n",
    " \n",
    "\n",
    "### Constraints:\n",
    "\n",
    "0 <= s.length <= 5 * 104\n",
    "\n",
    "s consists of English letters, digits, symbols and spaces."
   ]
  },
  {
   "cell_type": "code",
   "execution_count": 1,
   "id": "608c02cc",
   "metadata": {},
   "outputs": [],
   "source": [
    "class Solution:\n",
    "    def lengthOfLongestSubstring(self, s: str) -> int:\n",
    "        \n",
    "        # Initialize a set to store unique characters in the current window\n",
    "        char_set = set()\n",
    "        \n",
    "        # Get the length of the input string\n",
    "        n = len(s)\n",
    "        \n",
    "        # Variable to store the maximum length of the substring found\n",
    "        max_length = 0\n",
    "        \n",
    "        # Left pointer for the sliding window\n",
    "        left = 0\n",
    "        \n",
    "        # Iterate through the string with the right pointer\n",
    "        for right in range(n):\n",
    "            \n",
    "            # If the character at right pointer is not in the set, add it to the set\n",
    "            if s[right] not in char_set:\n",
    "                char_set.add(s[right])\n",
    "                \n",
    "                # Update max_length with the size of the current window\n",
    "                max_length = max(max_length, right - left + 1)\n",
    "                \n",
    "            else:\n",
    "                # If the character is already in the set, move the left pointer to the right\n",
    "                # until the repeating character is removed from the set\n",
    "                while s[right] in char_set:\n",
    "                    char_set.remove(s[left])\n",
    "                    left += 1\n",
    "                    \n",
    "                # Add the current character at right pointer to the set after the window is adjusted\n",
    "                char_set.add(s[right])\n",
    "        \n",
    "        # Return the maximum length of substring found\n",
    "        return max_length\n"
   ]
  },
  {
   "cell_type": "markdown",
   "id": "141331fb",
   "metadata": {},
   "source": [
    "#### Example 1"
   ]
  },
  {
   "cell_type": "code",
   "execution_count": 2,
   "id": "ebfa2875",
   "metadata": {},
   "outputs": [
    {
     "name": "stdout",
     "output_type": "stream",
     "text": [
      "3\n"
     ]
    }
   ],
   "source": [
    "s = \"abcabcbb\"\n",
    "solution = Solution()\n",
    "output = solution.lengthOfLongestSubstring(s)\n",
    "print(output)"
   ]
  },
  {
   "cell_type": "markdown",
   "id": "09684083",
   "metadata": {},
   "source": [
    "#### Example 2"
   ]
  },
  {
   "cell_type": "code",
   "execution_count": 3,
   "id": "4ee24474",
   "metadata": {},
   "outputs": [
    {
     "name": "stdout",
     "output_type": "stream",
     "text": [
      "1\n"
     ]
    }
   ],
   "source": [
    "s = \"bbbbb\"\n",
    "output = solution.lengthOfLongestSubstring(s)\n",
    "print(output)"
   ]
  },
  {
   "cell_type": "markdown",
   "id": "53b1af7b",
   "metadata": {},
   "source": [
    "#### Example 3"
   ]
  },
  {
   "cell_type": "code",
   "execution_count": 4,
   "id": "5f60797d",
   "metadata": {},
   "outputs": [
    {
     "name": "stdout",
     "output_type": "stream",
     "text": [
      "3\n"
     ]
    }
   ],
   "source": [
    "s = \"pwwkew\"\n",
    "output = solution.lengthOfLongestSubstring(s)\n",
    "print(output)"
   ]
  },
  {
   "cell_type": "markdown",
   "id": "0735a53d",
   "metadata": {},
   "source": [
    "# SQL"
   ]
  },
  {
   "cell_type": "markdown",
   "id": "e9bfbbe9",
   "metadata": {},
   "source": [
    "# Nth Highest Salary"
   ]
  },
  {
   "cell_type": "markdown",
   "id": "ae47a5db",
   "metadata": {},
   "source": [
    "\n",
    "Table: Employee\n",
    "\n",
    "\n",
    "id is the primary key (column with unique values) for this table.\n",
    "\n",
    "Each row of this table contains information about the salary of an employee.\n",
    " \n",
    "\n",
    "Write a solution to find the nth highest salary from the Employee table. If there is no nth highest salary, return null.\n"
   ]
  },
  {
   "cell_type": "markdown",
   "id": "9481199d",
   "metadata": {},
   "source": [
    "# Answer"
   ]
  },
  {
   "cell_type": "markdown",
   "id": "8aa486ec",
   "metadata": {},
   "source": [
    "CREATE FUNCTION getNthHighestSalary(N INT) RETURNS INT\n",
    "\n",
    "BEGIN\n",
    "\n",
    "  RETURN (\n",
    "      \n",
    "     # Select the nth highest salary from the Employee table\n",
    "      \n",
    "    SELECT salary FROM (\n",
    "        \n",
    "        # Subquery to rank salaries in descending order\n",
    "        \n",
    "        SELECT salary, \n",
    "        \n",
    "        # Assign ranks to each salary in descending order\n",
    "        \n",
    "        DENSE_RANK() OVER (ORDER BY salary DESC) AS ranking\n",
    "        \n",
    "        FROM Employee\n",
    "        \n",
    "    )AS ranked_salaries\n",
    "      \n",
    "      # Filter to get the salary with the nth rank\n",
    "      \n",
    "    WHERE ranking = N\n",
    "      \n",
    "      # Ensure only one result is returned\n",
    "      \n",
    "    LIMIT 1\n",
    "      \n",
    "  );\n",
    "    \n",
    "END;"
   ]
  },
  {
   "cell_type": "code",
   "execution_count": null,
   "id": "14d7cc62",
   "metadata": {},
   "outputs": [],
   "source": []
  },
  {
   "cell_type": "code",
   "execution_count": null,
   "id": "214bcf0f",
   "metadata": {},
   "outputs": [],
   "source": []
  },
  {
   "cell_type": "code",
   "execution_count": null,
   "id": "f0e20e8a",
   "metadata": {},
   "outputs": [],
   "source": []
  },
  {
   "cell_type": "code",
   "execution_count": null,
   "id": "1f196f37",
   "metadata": {},
   "outputs": [],
   "source": []
  },
  {
   "cell_type": "code",
   "execution_count": null,
   "id": "4ed59ede",
   "metadata": {},
   "outputs": [],
   "source": []
  },
  {
   "cell_type": "code",
   "execution_count": null,
   "id": "d6d6d118",
   "metadata": {},
   "outputs": [],
   "source": []
  },
  {
   "cell_type": "code",
   "execution_count": null,
   "id": "9f1a6fd8",
   "metadata": {},
   "outputs": [],
   "source": []
  },
  {
   "cell_type": "code",
   "execution_count": null,
   "id": "8028ad9b",
   "metadata": {},
   "outputs": [],
   "source": []
  },
  {
   "cell_type": "code",
   "execution_count": null,
   "id": "e4016cbf",
   "metadata": {},
   "outputs": [],
   "source": []
  }
 ],
 "metadata": {
  "kernelspec": {
   "display_name": "Python 3 (ipykernel)",
   "language": "python",
   "name": "python3"
  },
  "language_info": {
   "codemirror_mode": {
    "name": "ipython",
    "version": 3
   },
   "file_extension": ".py",
   "mimetype": "text/x-python",
   "name": "python",
   "nbconvert_exporter": "python",
   "pygments_lexer": "ipython3",
   "version": "3.11.7"
  }
 },
 "nbformat": 4,
 "nbformat_minor": 5
}
